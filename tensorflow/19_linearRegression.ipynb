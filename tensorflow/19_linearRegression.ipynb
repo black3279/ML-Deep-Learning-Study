{
 "cells": [
  {
   "cell_type": "code",
   "execution_count": 3,
   "id": "7905c115",
   "metadata": {},
   "outputs": [],
   "source": [
    "import pandas as pd\n",
    "from sklearn.linear_model import LinearRegression as LR\n",
    "import statsmodels.formula.api as smf"
   ]
  },
  {
   "cell_type": "code",
   "execution_count": 4,
   "id": "a47bf8dc",
   "metadata": {},
   "outputs": [],
   "source": [
    "df = pd.read_csv(\"./data/bike.csv\")"
   ]
  },
  {
   "cell_type": "code",
   "execution_count": 5,
   "id": "dd634d5b",
   "metadata": {},
   "outputs": [
    {
     "data": {
      "text/html": [
       "<div>\n",
       "<style scoped>\n",
       "    .dataframe tbody tr th:only-of-type {\n",
       "        vertical-align: middle;\n",
       "    }\n",
       "\n",
       "    .dataframe tbody tr th {\n",
       "        vertical-align: top;\n",
       "    }\n",
       "\n",
       "    .dataframe thead th {\n",
       "        text-align: right;\n",
       "    }\n",
       "</style>\n",
       "<table border=\"1\" class=\"dataframe\">\n",
       "  <thead>\n",
       "    <tr style=\"text-align: right;\">\n",
       "      <th></th>\n",
       "      <th>datetime</th>\n",
       "      <th>season</th>\n",
       "      <th>holiday</th>\n",
       "      <th>workingday</th>\n",
       "      <th>weather</th>\n",
       "      <th>temp</th>\n",
       "      <th>atemp</th>\n",
       "      <th>humidity</th>\n",
       "      <th>windspeed</th>\n",
       "      <th>casual</th>\n",
       "      <th>registered</th>\n",
       "      <th>count</th>\n",
       "    </tr>\n",
       "  </thead>\n",
       "  <tbody>\n",
       "    <tr>\n",
       "      <th>0</th>\n",
       "      <td>2011-01-01 00:00:00</td>\n",
       "      <td>1</td>\n",
       "      <td>0</td>\n",
       "      <td>0</td>\n",
       "      <td>1</td>\n",
       "      <td>9.84</td>\n",
       "      <td>14.395</td>\n",
       "      <td>81</td>\n",
       "      <td>0.0</td>\n",
       "      <td>3</td>\n",
       "      <td>13</td>\n",
       "      <td>16</td>\n",
       "    </tr>\n",
       "    <tr>\n",
       "      <th>1</th>\n",
       "      <td>2011-01-01 01:00:00</td>\n",
       "      <td>1</td>\n",
       "      <td>0</td>\n",
       "      <td>0</td>\n",
       "      <td>1</td>\n",
       "      <td>9.02</td>\n",
       "      <td>13.635</td>\n",
       "      <td>80</td>\n",
       "      <td>0.0</td>\n",
       "      <td>8</td>\n",
       "      <td>32</td>\n",
       "      <td>40</td>\n",
       "    </tr>\n",
       "  </tbody>\n",
       "</table>\n",
       "</div>"
      ],
      "text/plain": [
       "              datetime  season  holiday  workingday  weather  temp   atemp  \\\n",
       "0  2011-01-01 00:00:00       1        0           0        1  9.84  14.395   \n",
       "1  2011-01-01 01:00:00       1        0           0        1  9.02  13.635   \n",
       "\n",
       "   humidity  windspeed  casual  registered  count  \n",
       "0        81        0.0       3          13     16  \n",
       "1        80        0.0       8          32     40  "
      ]
     },
     "execution_count": 5,
     "metadata": {},
     "output_type": "execute_result"
    }
   ],
   "source": [
    "df.head(2)"
   ]
  },
  {
   "cell_type": "code",
   "execution_count": 6,
   "id": "8fcc3a3d",
   "metadata": {},
   "outputs": [],
   "source": [
    "model = LR(fit_intercept = True) # 절편 사용여부\n",
    "result = model.fit(df.iloc[:, 4:9],\n",
    "                  df[\"casual\"])"
   ]
  },
  {
   "cell_type": "code",
   "execution_count": 7,
   "id": "2a7675fc",
   "metadata": {},
   "outputs": [
    {
     "data": {
      "text/plain": [
       "24.86123951824579"
      ]
     },
     "execution_count": 7,
     "metadata": {},
     "output_type": "execute_result"
    }
   ],
   "source": [
    "result.intercept_ # 절편"
   ]
  },
  {
   "cell_type": "code",
   "execution_count": 8,
   "id": "c411c65c",
   "metadata": {},
   "outputs": [
    {
     "data": {
      "text/plain": [
       "array([ 1.92538776,  0.94611436,  1.79169399, -0.86548832,  0.03658934])"
      ]
     },
     "execution_count": 8,
     "metadata": {},
     "output_type": "execute_result"
    }
   ],
   "source": [
    "result.coef_ # 각 변수의 계수"
   ]
  },
  {
   "cell_type": "code",
   "execution_count": 11,
   "id": "50597b9b",
   "metadata": {},
   "outputs": [
    {
     "data": {
      "text/plain": [
       "array(['weather', 'temp', 'atemp', 'humidity', 'windspeed'], dtype=object)"
      ]
     },
     "execution_count": 11,
     "metadata": {},
     "output_type": "execute_result"
    }
   ],
   "source": [
    "df.columns.values[4:9]"
   ]
  },
  {
   "cell_type": "code",
   "execution_count": 13,
   "id": "416e22ac",
   "metadata": {},
   "outputs": [
    {
     "data": {
      "text/html": [
       "<div>\n",
       "<style scoped>\n",
       "    .dataframe tbody tr th:only-of-type {\n",
       "        vertical-align: middle;\n",
       "    }\n",
       "\n",
       "    .dataframe tbody tr th {\n",
       "        vertical-align: top;\n",
       "    }\n",
       "\n",
       "    .dataframe thead th {\n",
       "        text-align: right;\n",
       "    }\n",
       "</style>\n",
       "<table border=\"1\" class=\"dataframe\">\n",
       "  <thead>\n",
       "    <tr style=\"text-align: right;\">\n",
       "      <th></th>\n",
       "      <th>colnames</th>\n",
       "      <th>coef</th>\n",
       "    </tr>\n",
       "  </thead>\n",
       "  <tbody>\n",
       "    <tr>\n",
       "      <th>0</th>\n",
       "      <td>weather</td>\n",
       "      <td>1.925388</td>\n",
       "    </tr>\n",
       "    <tr>\n",
       "      <th>1</th>\n",
       "      <td>temp</td>\n",
       "      <td>0.946114</td>\n",
       "    </tr>\n",
       "    <tr>\n",
       "      <th>2</th>\n",
       "      <td>atemp</td>\n",
       "      <td>1.791694</td>\n",
       "    </tr>\n",
       "    <tr>\n",
       "      <th>3</th>\n",
       "      <td>humidity</td>\n",
       "      <td>-0.865488</td>\n",
       "    </tr>\n",
       "    <tr>\n",
       "      <th>4</th>\n",
       "      <td>windspeed</td>\n",
       "      <td>0.036589</td>\n",
       "    </tr>\n",
       "  </tbody>\n",
       "</table>\n",
       "</div>"
      ],
      "text/plain": [
       "    colnames      coef\n",
       "0    weather  1.925388\n",
       "1       temp  0.946114\n",
       "2      atemp  1.791694\n",
       "3   humidity -0.865488\n",
       "4  windspeed  0.036589"
      ]
     },
     "execution_count": 13,
     "metadata": {},
     "output_type": "execute_result"
    }
   ],
   "source": [
    "df_model1 = pd.DataFrame({\"colnames\": df.columns.values[4:9],\n",
    "                         \"coef\": result.coef_})\n",
    "df_model1"
   ]
  },
  {
   "cell_type": "code",
   "execution_count": 15,
   "id": "d7d58423",
   "metadata": {},
   "outputs": [
    {
     "data": {
      "text/html": [
       "<table class=\"simpletable\">\n",
       "<caption>OLS Regression Results</caption>\n",
       "<tr>\n",
       "  <th>Dep. Variable:</th>         <td>casual</td>      <th>  R-squared:         </th> <td>   0.323</td> \n",
       "</tr>\n",
       "<tr>\n",
       "  <th>Model:</th>                   <td>OLS</td>       <th>  Adj. R-squared:    </th> <td>   0.322</td> \n",
       "</tr>\n",
       "<tr>\n",
       "  <th>Method:</th>             <td>Least Squares</td>  <th>  F-statistic:       </th> <td>   1296.</td> \n",
       "</tr>\n",
       "<tr>\n",
       "  <th>Date:</th>             <td>Tue, 12 Oct 2021</td> <th>  Prob (F-statistic):</th>  <td>  0.00</td>  \n",
       "</tr>\n",
       "<tr>\n",
       "  <th>Time:</th>                 <td>00:35:10</td>     <th>  Log-Likelihood:    </th> <td> -55903.</td> \n",
       "</tr>\n",
       "<tr>\n",
       "  <th>No. Observations:</th>      <td> 10886</td>      <th>  AIC:               </th> <td>1.118e+05</td>\n",
       "</tr>\n",
       "<tr>\n",
       "  <th>Df Residuals:</th>          <td> 10881</td>      <th>  BIC:               </th> <td>1.119e+05</td>\n",
       "</tr>\n",
       "<tr>\n",
       "  <th>Df Model:</th>              <td>     4</td>      <th>                     </th>     <td> </td>    \n",
       "</tr>\n",
       "<tr>\n",
       "  <th>Covariance Type:</th>      <td>nonrobust</td>    <th>                     </th>     <td> </td>    \n",
       "</tr>\n",
       "</table>\n",
       "<table class=\"simpletable\">\n",
       "<tr>\n",
       "      <td></td>         <th>coef</th>     <th>std err</th>      <th>t</th>      <th>P>|t|</th>  <th>[0.025</th>    <th>0.975]</th>  \n",
       "</tr>\n",
       "<tr>\n",
       "  <th>Intercept</th> <td>   25.6758</td> <td>    1.829</td> <td>   14.039</td> <td> 0.000</td> <td>   22.091</td> <td>   29.261</td>\n",
       "</tr>\n",
       "<tr>\n",
       "  <th>weather</th>   <td>    1.9962</td> <td>    0.682</td> <td>    2.926</td> <td> 0.003</td> <td>    0.659</td> <td>    3.333</td>\n",
       "</tr>\n",
       "<tr>\n",
       "  <th>temp</th>      <td>    0.9858</td> <td>    0.296</td> <td>    3.335</td> <td> 0.001</td> <td>    0.406</td> <td>    1.565</td>\n",
       "</tr>\n",
       "<tr>\n",
       "  <th>atemp</th>     <td>    1.7535</td> <td>    0.272</td> <td>    6.459</td> <td> 0.000</td> <td>    1.221</td> <td>    2.286</td>\n",
       "</tr>\n",
       "<tr>\n",
       "  <th>humidity</th>  <td>   -0.8711</td> <td>    0.023</td> <td>  -38.475</td> <td> 0.000</td> <td>   -0.915</td> <td>   -0.827</td>\n",
       "</tr>\n",
       "</table>\n",
       "<table class=\"simpletable\">\n",
       "<tr>\n",
       "  <th>Omnibus:</th>       <td>5695.737</td> <th>  Durbin-Watson:     </th> <td>   0.172</td> \n",
       "</tr>\n",
       "<tr>\n",
       "  <th>Prob(Omnibus):</th>  <td> 0.000</td>  <th>  Jarque-Bera (JB):  </th> <td>46302.172</td>\n",
       "</tr>\n",
       "<tr>\n",
       "  <th>Skew:</th>           <td> 2.398</td>  <th>  Prob(JB):          </th> <td>    0.00</td> \n",
       "</tr>\n",
       "<tr>\n",
       "  <th>Kurtosis:</th>       <td>11.893</td>  <th>  Cond. No.          </th> <td>    334.</td> \n",
       "</tr>\n",
       "</table><br/><br/>Notes:<br/>[1] Standard Errors assume that the covariance matrix of the errors is correctly specified."
      ],
      "text/plain": [
       "<class 'statsmodels.iolib.summary.Summary'>\n",
       "\"\"\"\n",
       "                            OLS Regression Results                            \n",
       "==============================================================================\n",
       "Dep. Variable:                 casual   R-squared:                       0.323\n",
       "Model:                            OLS   Adj. R-squared:                  0.322\n",
       "Method:                 Least Squares   F-statistic:                     1296.\n",
       "Date:                Tue, 12 Oct 2021   Prob (F-statistic):               0.00\n",
       "Time:                        00:35:10   Log-Likelihood:                -55903.\n",
       "No. Observations:               10886   AIC:                         1.118e+05\n",
       "Df Residuals:                   10881   BIC:                         1.119e+05\n",
       "Df Model:                           4                                         \n",
       "Covariance Type:            nonrobust                                         \n",
       "==============================================================================\n",
       "                 coef    std err          t      P>|t|      [0.025      0.975]\n",
       "------------------------------------------------------------------------------\n",
       "Intercept     25.6758      1.829     14.039      0.000      22.091      29.261\n",
       "weather        1.9962      0.682      2.926      0.003       0.659       3.333\n",
       "temp           0.9858      0.296      3.335      0.001       0.406       1.565\n",
       "atemp          1.7535      0.272      6.459      0.000       1.221       2.286\n",
       "humidity      -0.8711      0.023    -38.475      0.000      -0.915      -0.827\n",
       "==============================================================================\n",
       "Omnibus:                     5695.737   Durbin-Watson:                   0.172\n",
       "Prob(Omnibus):                  0.000   Jarque-Bera (JB):            46302.172\n",
       "Skew:                           2.398   Prob(JB):                         0.00\n",
       "Kurtosis:                      11.893   Cond. No.                         334.\n",
       "==============================================================================\n",
       "\n",
       "Notes:\n",
       "[1] Standard Errors assume that the covariance matrix of the errors is correctly specified.\n",
       "\"\"\""
      ]
     },
     "execution_count": 15,
     "metadata": {},
     "output_type": "execute_result"
    }
   ],
   "source": [
    "model2 = smf.ols(\"casual ~ weather + temp + atemp + humidity\",\n",
    "                data = df)\n",
    "result2 = model2.fit()\n",
    "result2.summary()"
   ]
  },
  {
   "cell_type": "code",
   "execution_count": 18,
   "id": "10ed3029",
   "metadata": {},
   "outputs": [
    {
     "data": {
      "text/plain": [
       "100    21.606021\n",
       "101    21.606021\n",
       "102    29.363516\n",
       "dtype: float64"
      ]
     },
     "execution_count": 18,
     "metadata": {},
     "output_type": "execute_result"
    }
   ],
   "source": [
    "pred = result2.predict(df.iloc[100:103, 4:9])\n",
    "pred"
   ]
  },
  {
   "cell_type": "code",
   "execution_count": 19,
   "id": "af89d1b3",
   "metadata": {},
   "outputs": [
    {
     "data": {
      "text/plain": [
       "100     6\n",
       "101     4\n",
       "102    12\n",
       "Name: casual, dtype: int64"
      ]
     },
     "execution_count": 19,
     "metadata": {},
     "output_type": "execute_result"
    }
   ],
   "source": [
    "df.iloc[100:103, 9]"
   ]
  },
  {
   "cell_type": "code",
   "execution_count": null,
   "id": "dfd20b14",
   "metadata": {},
   "outputs": [],
   "source": []
  }
 ],
 "metadata": {
  "kernelspec": {
   "display_name": "Python 3 (ipykernel)",
   "language": "python",
   "name": "python3"
  },
  "language_info": {
   "codemirror_mode": {
    "name": "ipython",
    "version": 3
   },
   "file_extension": ".py",
   "mimetype": "text/x-python",
   "name": "python",
   "nbconvert_exporter": "python",
   "pygments_lexer": "ipython3",
   "version": "3.9.6"
  }
 },
 "nbformat": 4,
 "nbformat_minor": 5
}
